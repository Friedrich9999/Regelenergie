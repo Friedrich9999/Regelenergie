{
  "cells": [
    {
      "cell_type": "markdown",
      "metadata": {
        "id": "view-in-github",
        "colab_type": "text"
      },
      "source": [
        "<a href=\"https://colab.research.google.com/github/Friedrich9999/Regelenergie/blob/main/Python_Skript_zum_Herunterladen_von_Regelleistungsdaten.ipynb\" target=\"_parent\"><img src=\"https://colab.research.google.com/assets/colab-badge.svg\" alt=\"Open In Colab\"/></a>"
      ]
    },
    {
      "cell_type": "code",
      "source": [
        "import requests\n",
        "import os\n",
        "from datetime import date, timedelta\n",
        "\n",
        "# Basis-URL und statische Parameter\n",
        "BASE_URL = \"https://www.regelleistung.net/apps/cpp-publisher/api/v1/download/tenders/demands\"\n",
        "PRODUCT_TYPES = \"FCR\"\n",
        "MARKET = \"CAPACITY\"\n",
        "EXPORT_FORMAT = \"xlsx\"\n",
        "\n",
        "def download_regelleistung_data(target_date_str, download_path=\".\"):\n",
        "    \"\"\"\n",
        "    Lädt die Regelleistungsdaten für ein bestimmtes Datum herunter.\n",
        "\n",
        "    Args:\n",
        "        target_date_str (str): Das Zieldatum im Format 'YYYY-MM-DD'.\n",
        "        download_path (str): Der Ordner, in dem die Datei gespeichert werden soll. Standard ist das aktuelle Verzeichnis.\n",
        "    \"\"\"\n",
        "    try:\n",
        "        # Überprüfen des Datumsformats\n",
        "        target_date = date.fromisoformat(target_date_str)\n",
        "    except ValueError:\n",
        "        print(f\"Fehler: Ungültiges Datumsformat '{target_date_str}'. Bitte verwenden Sie 'YYYY-MM-DD'.\")\n",
        "        return\n",
        "\n",
        "    # Parameter für die Anfrage zusammenstellen\n",
        "    params = {\n",
        "        \"productTypes\": PRODUCT_TYPES,\n",
        "        \"market\": MARKET,\n",
        "        \"exportFormat\": EXPORT_FORMAT,\n",
        "        \"date\": target_date_str\n",
        "    }\n",
        "\n",
        "    # Dateinamen erstellen\n",
        "    file_name = f\"regelleistung_{PRODUCT_TYPES}_{MARKET}_{target_date_str}.{EXPORT_FORMAT}\"\n",
        "    full_file_path = os.path.join(download_path, file_name)\n",
        "\n",
        "    print(f\"Versuche, Daten für den {target_date_str} herunterzuladen...\")\n",
        "    print(f\"URL: {BASE_URL} mit Parametern: {params}\")\n",
        "\n",
        "    try:\n",
        "        # Anfrage an die API senden\n",
        "        response = requests.get(BASE_URL, params=params, timeout=30) # 30 Sekunden Timeout\n",
        "        response.raise_for_status()  # Löst einen HTTPError aus, wenn der HTTP-Statuscode 4XX oder 5XX ist\n",
        "\n",
        "        # Sicherstellen, dass der Download-Pfad existiert\n",
        "        if not os.path.exists(download_path):\n",
        "            os.makedirs(download_path)\n",
        "            print(f\"Download-Ordner '{download_path}' erstellt.\")\n",
        "\n",
        "        # Datei speichern\n",
        "        with open(full_file_path, 'wb') as f:\n",
        "            f.write(response.content)\n",
        "        print(f\"Datei erfolgreich heruntergeladen und gespeichert als: {full_file_path}\")\n",
        "\n",
        "    except requests.exceptions.HTTPError as http_err:\n",
        "        print(f\"HTTP-Fehler aufgetreten: {http_err}\")\n",
        "        print(f\"Statuscode: {response.status_code}\")\n",
        "        print(f\"Antworttext: {response.text[:500]}...\") # Zeige die ersten 500 Zeichen der Antwort\n",
        "    except requests.exceptions.ConnectionError as conn_err:\n",
        "        print(f\"Verbindungsfehler aufgetreten: {conn_err}\")\n",
        "    except requests.exceptions.Timeout as timeout_err:\n",
        "        print(f\"Timeout-Fehler aufgetreten: {timeout_err}\")\n",
        "    except requests.exceptions.RequestException as req_err:\n",
        "        print(f\"Ein Fehler bei der Anfrage ist aufgetreten: {req_err}\")\n",
        "    except IOError as io_err:\n",
        "        print(f\"Fehler beim Schreiben der Datei: {io_err}\")\n",
        "    except Exception as e:\n",
        "        print(f\"Ein unerwarteter Fehler ist aufgetreten: {e}\")\n",
        "\n",
        "# --- Beispielverwendung ---\n",
        "if __name__ == \"__main__\":\n",
        "    # Beispiel 1: Heutiges Datum (passt nicht zur Beispieldaten-URL, aber zeigt die Datumslogik)\n",
        "    # today_str = date.today().isoformat()\n",
        "    # download_regelleistung_data(today_str, download_path=\"Regelleistungsdaten\")\n",
        "\n",
        "    # Beispiel 2: Ein bestimmtes Datum (wie in Ihrer URL)\n",
        "    specific_date_str = \"2025-05-08\"\n",
        "    download_regelleistung_data(specific_date_str, download_path=\"Regelleistungsdaten_Archiv\")\n",
        "\n",
        "    # Beispiel 3: Ein anderes Datum\n",
        "    another_date_str = \"2025-05-09\" # Ändern Sie dieses Datum nach Bedarf\n",
        "    download_regelleistung_data(another_date_str, download_path=\"Regelleistungsdaten_Archiv\")\n",
        "\n",
        "    # Beispiel 4: Daten für mehrere Tage herunterladen (z.B. die letzten 3 Tage ab einem Stichtag)\n",
        "    # base_date = date(2025, 5, 10)\n",
        "    # for i in range(3):\n",
        "    #     current_target_date = base_date - timedelta(days=i)\n",
        "    #     download_regelleistung_data(current_target_date.isoformat(), download_path=\"Regelleistungsdaten_Mehrere_Tage\")"
      ],
      "outputs": [
        {
          "output_type": "stream",
          "name": "stdout",
          "text": [
            "Versuche, Daten für den 2025-05-08 herunterzuladen...\n",
            "URL: https://www.regelleistung.net/apps/cpp-publisher/api/v1/download/tenders/demands mit Parametern: {'productTypes': 'FCR', 'market': 'CAPACITY', 'exportFormat': 'xlsx', 'date': '2025-05-08'}\n",
            "Download-Ordner 'Regelleistungsdaten_Archiv' erstellt.\n",
            "Datei erfolgreich heruntergeladen und gespeichert als: Regelleistungsdaten_Archiv/regelleistung_FCR_CAPACITY_2025-05-08.xlsx\n",
            "Versuche, Daten für den 2025-05-09 herunterzuladen...\n",
            "URL: https://www.regelleistung.net/apps/cpp-publisher/api/v1/download/tenders/demands mit Parametern: {'productTypes': 'FCR', 'market': 'CAPACITY', 'exportFormat': 'xlsx', 'date': '2025-05-09'}\n",
            "Datei erfolgreich heruntergeladen und gespeichert als: Regelleistungsdaten_Archiv/regelleistung_FCR_CAPACITY_2025-05-09.xlsx\n"
          ]
        }
      ],
      "execution_count": null,
      "metadata": {
        "id": "YGx_7GQ0lXns",
        "outputId": "6bc526d6-cb60-4527-a9ca-b0fde62ccabd",
        "colab": {
          "base_uri": "https://localhost:8080/"
        }
      }
    }
  ],
  "metadata": {
    "colab": {
      "provenance": [],
      "include_colab_link": true
    },
    "kernelspec": {
      "display_name": "Python 3",
      "name": "python3"
    }
  },
  "nbformat": 4,
  "nbformat_minor": 0
}